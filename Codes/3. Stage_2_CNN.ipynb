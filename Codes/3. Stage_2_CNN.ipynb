{
  "nbformat": 4,
  "nbformat_minor": 0,
  "metadata": {
    "colab": {
      "provenance": []
    },
    "kernelspec": {
      "name": "python3",
      "display_name": "Python 3"
    },
    "language_info": {
      "name": "python"
    }
  },
  "cells": [
    {
      "cell_type": "code",
      "execution_count": null,
      "metadata": {
        "id": "2pxD94dcUz5z"
      },
      "outputs": [],
      "source": [
        "import tensorflow as tf\n",
        "import keras\n",
        "\n",
        "from keras import regularizers\n",
        "from keras import backend as K\n",
        "\n",
        "from keras.models import Sequential, Model\n",
        "\n",
        "from keras.layers import *\n",
        "from keras.optimizers import *\n",
        "\n",
        "from keras.callbacks import ModelCheckpoint\n",
        "from keras.initializers import Constant\n",
        "\n",
        "\n",
        "from keras.utils import np_utils\n",
        "from keras_preprocessing.image import ImageDataGenerator\n",
        "\n",
        "\n",
        "from keras.callbacks import Callback\n",
        "from sklearn.metrics import confusion_matrix, f1_score, precision_score, recall_score\n",
        "from keras.applications import MobileNetV2\n",
        "\n",
        "from sklearn.metrics import roc_curve\n",
        "from sklearn.metrics import auc"
      ]
    },
    {
      "cell_type": "code",
      "source": [
        "import os\n",
        "%matplotlib inline\n",
        "import matplotlib.pyplot as plt\n",
        "import numpy as np\n",
        "import pandas as pd\n",
        "import seaborn as sns\n",
        "\n",
        "\n",
        "from PIL import Image\n",
        "from sklearn.preprocessing import StandardScaler\n",
        "from sklearn.model_selection import train_test_split, KFold, cross_val_score, GridSearchCV\n",
        "from sklearn.metrics import accuracy_score\n",
        "from sklearn.metrics import confusion_matrix\n",
        "\n",
        "import tensorflow\n",
        "from tensorflow.keras.models import Sequential, Model\n",
        "from tensorflow.keras.layers import Dense, Dropout, Flatten, Conv2D, MaxPool2D\n",
        "from tensorflow.keras.optimizers import Adam, RMSprop\n",
        "from tensorflow.keras.preprocessing.image import ImageDataGenerator\n",
        "from tensorflow.keras.layers import BatchNormalization\n",
        "from tensorflow.keras import optimizers\n",
        "from keras.applications import MobileNetV2\n",
        "import imageio\n",
        "from keras.utils import to_categorical"
      ],
      "metadata": {
        "id": "OUj3P7-OVT1M"
      },
      "execution_count": null,
      "outputs": []
    },
    {
      "cell_type": "code",
      "source": [
        "xs = []\n",
        "ys = []\n",
        "def Load_data_malignant():\n",
        "    path =\"/content/drive/MyDrive/DATASET/malignant\"\n",
        "    x_out = []\n",
        "    y_out = []\n",
        "    for i in range(1, 314):\n",
        "        img = imageio.imread(path +'/' + '1' + ' (' + str(i) + ')' + '.jpg')\n",
        "        lab = 1\n",
        "        x_out.append(img)\n",
        "        y_out.append(lab)\n",
        "    return x_out, y_out"
      ],
      "metadata": {
        "id": "wRa8eyXqVTyf"
      },
      "execution_count": null,
      "outputs": []
    },
    {
      "cell_type": "code",
      "source": [
        "def Load_data_benign():\n",
        "    path =\"/content/drive/MyDrive/DATASET/benign\"\n",
        "    x_out = []\n",
        "    y_out = []\n",
        "    for i in range(1, 314):\n",
        "        img = imageio.imread(path +'/' + '1' + ' (' + str(i) + ')' + '.jpg')\n",
        "        lab = 0\n",
        "        x_out.append(img)\n",
        "        y_out.append(lab)\n",
        "    return x_out, y_out"
      ],
      "metadata": {
        "id": "itOLCfj-VTvg"
      },
      "execution_count": null,
      "outputs": []
    },
    {
      "cell_type": "code",
      "source": [
        "x_0, y_0 = Load_data_benign()"
      ],
      "metadata": {
        "id": "k4SDZR47VTs1"
      },
      "execution_count": null,
      "outputs": []
    },
    {
      "cell_type": "code",
      "source": [
        "x_1, y_1 = Load_data_malignant()"
      ],
      "metadata": {
        "id": "l5-tgoGGVTp-"
      },
      "execution_count": null,
      "outputs": []
    },
    {
      "cell_type": "code",
      "source": [
        "x_0 = np.array(x_0)\n",
        "y_0 = np.array(y_0)\n",
        "\n",
        "x_1 = np.array(x_1)\n",
        "y_1 = np.array(y_1)"
      ],
      "metadata": {
        "id": "nQD0UlfmVTm9"
      },
      "execution_count": null,
      "outputs": []
    },
    {
      "cell_type": "code",
      "source": [
        "num_classes = 2\n",
        "x=np.concatenate((x_0, x_1), axis=0)\n",
        "y=np.concatenate((y_0, y_1), axis=0)\n",
        "\n",
        "y = np_utils.to_categorical(y, num_classes)"
      ],
      "metadata": {
        "id": "i1htFueXVec_"
      },
      "execution_count": null,
      "outputs": []
    },
    {
      "cell_type": "code",
      "source": [
        "x_train, x_Test, y_train, y_Test = train_test_split(x, y, test_size=0.3, random_state=5,stratify=y)"
      ],
      "metadata": {
        "id": "EpqIfWZrVeaF"
      },
      "execution_count": null,
      "outputs": []
    },
    {
      "cell_type": "code",
      "source": [
        "x_train.shape"
      ],
      "metadata": {
        "id": "l7TLev7tVeXL"
      },
      "execution_count": null,
      "outputs": []
    },
    {
      "cell_type": "code",
      "source": [
        "model = keras.models.Sequential([\n",
        "    keras.layers.Conv2D(filters=32, kernel_size=3, activation='relu', padding='same', input_shape=[224,224,3]),\n",
        "    keras.layers.Conv2D(filters=64, kernel_size=3, activation='relu', padding='same'),\n",
        "    keras.layers.MaxPool2D(2),\n",
        "    keras.layers.Conv2D(filters=128, kernel_size=3, activation='relu', padding='same'),\n",
        "    keras.layers.MaxPool2D(2),\n",
        "    keras.layers.Conv2D(filters=256, kernel_size=3, activation='relu', padding='same'),\n",
        "    keras.layers.MaxPool2D(2),\n",
        "    keras.layers.Flatten(),\n",
        "    keras.layers.Dense(256, activation='relu',name ='feature_dense1'),\n",
        "    keras.layers.Dense(128, activation='relu',name ='feature_dense2'),\n",
        "    keras.layers.Dense(64, activation='relu',name ='feature_dense3'),\n",
        "    keras.layers.Dense(32, activation='relu'),\n",
        "    keras.layers.Dense(2, activation='sigmoid')\n",
        "   ])\n",
        "model.summary()"
      ],
      "metadata": {
        "id": "gUOzcPZ7VeUU"
      },
      "execution_count": null,
      "outputs": []
    },
    {
      "cell_type": "code",
      "source": [
        "optimizer = keras.optimizers.Adamax()\n",
        "model.compile(optimizer=optimizer, loss=keras.losses.BinaryCrossentropy(), metrics=['accuracy']"
      ],
      "metadata": {
        "id": "0UmUMEuXVk80"
      },
      "execution_count": null,
      "outputs": []
    },
    {
      "cell_type": "code",
      "source": [
        "history=model.fit(x_train, y_train, epochs=150,batch_size = 40 ,validation_data= (x_Test, y_Test), shuffle=True)"
      ],
      "metadata": {
        "id": "PUe4dsTzVk5N"
      },
      "execution_count": null,
      "outputs": []
    },
    {
      "cell_type": "code",
      "source": [
        "plt.plot(history.history['accuracy'])\n",
        "plt.title('model accuracy')\n",
        "plt.ylabel('accuracy')\n",
        "plt.xlabel('epoch')\n",
        "plt.legend(['train'], loc='upper left')\n",
        "plt.show()"
      ],
      "metadata": {
        "id": "Va-OukajVk2Z"
      },
      "execution_count": null,
      "outputs": []
    },
    {
      "cell_type": "code",
      "source": [
        "plt.plot(history.history['loss'])\n",
        "plt.title('model loss')\n",
        "plt.ylabel('loss')\n",
        "plt.xlabel('epoch')\n",
        "plt.legend(['train'], loc='upper right')\n",
        "plt.show()"
      ],
      "metadata": {
        "id": "R64w5N_1VtP_"
      },
      "execution_count": null,
      "outputs": []
    },
    {
      "cell_type": "code",
      "source": [
        "model.save('keras_model_conv2D_v2.h5')"
      ],
      "metadata": {
        "id": "l7ve_vA7VtNX"
      },
      "execution_count": null,
      "outputs": []
    },
    {
      "cell_type": "code",
      "source": [
        "from keras.models import load_model\n",
        "import tensorflow as tf\n",
        "import keras\n",
        "\n",
        "from keras import regularizers\n",
        "from keras import backend as K\n",
        "\n",
        "from keras.models import Sequential, Model\n",
        "\n",
        "\n",
        "model = load_model('keras_model_conv2D.h5')\n",
        "\n",
        "intermediate_layer_model = Model(inputs=model.input,outputs=model.get_layer('feature_dense3').output)\n",
        "intermediate_layer_model.summary()"
      ],
      "metadata": {
        "id": "mhLO1jBxVtKr"
      },
      "execution_count": null,
      "outputs": []
    },
    {
      "cell_type": "code",
      "source": [
        "files=[]\n",
        "for i in range(0,438):\n",
        "    files.append(train_generator.filenames[i])\n",
        "\n",
        "filenames=[]\n",
        "for f in files:\n",
        "    x=f.replace('\\\\',\"/\",1)\n",
        "    filenames.append('final/train/'+ x)"
      ],
      "metadata": {
        "id": "uxLFtuSTVtH8"
      },
      "execution_count": null,
      "outputs": []
    },
    {
      "cell_type": "code",
      "source": [
        "new_col = []\n",
        "for i in range(64):\n",
        "    new_col.append('Feature_%d'%(i+1))"
      ],
      "metadata": {
        "id": "rAADws4UVtFR"
      },
      "execution_count": null,
      "outputs": []
    },
    {
      "cell_type": "code",
      "source": [
        "from PIL import Image\n",
        "import numpy as np\n",
        "from skimage import transform\n",
        "import csv"
      ],
      "metadata": {
        "id": "bWt4jFEUVtCq"
      },
      "execution_count": null,
      "outputs": []
    },
    {
      "cell_type": "code",
      "source": [
        "preds=[]\n",
        "def load(filename):\n",
        "    np_image = Image.open(filename)\n",
        "    np_image = np.array(np_image).astype('float32')/255\n",
        "    np_image = transform.resize(np_image, (224, 224, 3))\n",
        "    np_image = np.expand_dims(np_image, axis=0)\n",
        "    return np_image\n",
        "\n",
        "for f in filenames:\n",
        "    image = load(f)\n",
        "    files.append(f)\n",
        "    pred=intermediate_layer_model.predict(image)\n",
        "    preds.append(pred)\n",
        "\n",
        "df = pd.DataFrame (preds)\n",
        "filepath = 'new_data.xlsx'\n",
        "\n",
        "df.to_excel(filepath, index=False)"
      ],
      "metadata": {
        "id": "zOSZgNOsV2is"
      },
      "execution_count": null,
      "outputs": []
    },
    {
      "cell_type": "code",
      "source": [
        "preds"
      ],
      "metadata": {
        "id": "NjuM2GChV2f4"
      },
      "execution_count": null,
      "outputs": []
    }
  ]
}