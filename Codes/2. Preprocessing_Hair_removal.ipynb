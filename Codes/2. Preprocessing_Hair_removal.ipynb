{
  "nbformat": 4,
  "nbformat_minor": 0,
  "metadata": {
    "colab": {
      "provenance": []
    },
    "kernelspec": {
      "name": "python3",
      "display_name": "Python 3"
    },
    "language_info": {
      "name": "python"
    }
  },
  "cells": [
    {
      "cell_type": "code",
      "execution_count": null,
      "metadata": {
        "id": "yh7m3NWeUIi6"
      },
      "outputs": [],
      "source": [
        "import cv2\n",
        "import matplotlib.pyplot as plt\n",
        "import matplotlib.image as mpimg"
      ]
    },
    {
      "cell_type": "code",
      "source": [
        "img = mpimg.imread(\"/content/drive/MyDrive/DATASET/benign/1 (56).jpg\")\n",
        "imgplot = plt.imshow(img)\n",
        "plt.show()"
      ],
      "metadata": {
        "id": "LNERW4TMUX3j"
      },
      "execution_count": null,
      "outputs": []
    },
    {
      "cell_type": "code",
      "source": [
        "src = cv2.imread(\"/content/drive/MyDrive/DATASET/benign/1 (56).jpg\")\n",
        "\n",
        "grayScale = cv2.cvtColor( src, cv2.COLOR_RGB2GRAY )\n",
        "cv2.imwrite('hair_removal/grayScale_sample1.jpg', grayScale, [int(cv2.IMWRITE_JPEG_QUALITY), 90])\n",
        "\n",
        "kernel = cv2.getStructuringElement(1,(17,17))\n",
        "\n",
        "blackhat = cv2.morphologyEx(grayScale, cv2.MORPH_BLACKHAT, kernel)\n",
        "cv2.imwrite('hair_removal/blackhat_sample1.jpg', blackhat, [int(cv2.IMWRITE_JPEG_QUALITY), 90])\n",
        "\n",
        "ret,thresh2 = cv2.threshold(blackhat,10,255,cv2.THRESH_BINARY)\n",
        "print( thresh2.shape )\n",
        "cv2.imwrite('hair_removal/thresholded_sample1.jpg', thresh2, [int(cv2.IMWRITE_JPEG_QUALITY), 90])\n",
        "\n",
        "dst = cv2.inpaint(src,thresh2,1,cv2.INPAINT_TELEA)\n",
        "cv2.imwrite('hair_removal/InPainted_sample1.jpg', dst, [int(cv2.IMWRITE_JPEG_QUALITY), 90])"
      ],
      "metadata": {
        "id": "ZIQb7oreUXyQ"
      },
      "execution_count": null,
      "outputs": []
    },
    {
      "cell_type": "code",
      "source": [
        "img = mpimg.imread(\"hair_removal/InPainted_sample1.jpg\")\n",
        "imgplot = plt.imshow(img)\n",
        "plt.show()"
      ],
      "metadata": {
        "id": "J6w82sceUXvq"
      },
      "execution_count": null,
      "outputs": []
    }
  ]
}